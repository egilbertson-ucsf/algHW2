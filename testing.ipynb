{
 "cells": [
  {
   "cell_type": "code",
   "execution_count": 1,
   "metadata": {},
   "outputs": [],
   "source": [
    "from hw2skeleton import cluster as cl\n",
    "from hw2skeleton import io\n",
    "import os\n",
    "import pandas as pd"
   ]
  },
  {
   "cell_type": "code",
   "execution_count": 2,
   "metadata": {},
   "outputs": [],
   "source": [
    "def leven_dist(site_a, site_b):\n",
    "    if len(site_a.residues) > len(site_b.residues):\n",
    "        site_a, site_b = site_b, site_a\n",
    "    dists = range(len(site_a.residues) + 1)\n",
    "    \n",
    "    for i, c in enumerate(site_b.residues):\n",
    "        nDists = [i +1]\n",
    "        for j, d in enumerate(site_a.residues):\n",
    "            if c.type == d.type:\n",
    "                nDists.append(dists[j])\n",
    "            else:\n",
    "                m = min((dists[j], dists[j+1], nDists[-1]))\n",
    "                nDists.append(1 + m)\n",
    "        dists = nDists\n",
    "    similarity = dists[-1]\n",
    "    return similarity "
   ]
  },
  {
   "cell_type": "code",
   "execution_count": 3,
   "metadata": {
    "scrolled": true
   },
   "outputs": [
    {
     "name": "stdout",
     "output_type": "stream",
     "text": [
      "Read in 136 active sites\n"
     ]
    }
   ],
   "source": [
    "sites = io.read_active_sites('data')"
   ]
  },
  {
   "cell_type": "code",
   "execution_count": 4,
   "metadata": {},
   "outputs": [],
   "source": [
    "simMat = []\n",
    "for i in sites:\n",
    "    row = []\n",
    "    for j in sites:\n",
    "        row.append(leven_dist(i,j))\n",
    "    simMat.append(row)    \n",
    "\n",
    "mat = pd.DataFrame(simMat)"
   ]
  },
  {
   "cell_type": "code",
   "execution_count": null,
   "metadata": {},
   "outputs": [],
   "source": []
  }
 ],
 "metadata": {
  "kernelspec": {
   "display_name": "Python 3",
   "language": "python",
   "name": "python3"
  },
  "language_info": {
   "codemirror_mode": {
    "name": "ipython",
    "version": 3
   },
   "file_extension": ".py",
   "mimetype": "text/x-python",
   "name": "python",
   "nbconvert_exporter": "python",
   "pygments_lexer": "ipython3",
   "version": "3.7.4"
  },
  "toc": {
   "base_numbering": 1,
   "nav_menu": {},
   "number_sections": true,
   "sideBar": true,
   "skip_h1_title": false,
   "title_cell": "Table of Contents",
   "title_sidebar": "Contents",
   "toc_cell": false,
   "toc_position": {},
   "toc_section_display": true,
   "toc_window_display": false
  }
 },
 "nbformat": 4,
 "nbformat_minor": 2
}
