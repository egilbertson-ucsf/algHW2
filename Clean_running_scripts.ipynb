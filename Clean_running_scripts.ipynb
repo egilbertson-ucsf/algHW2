{
 "cells": [
  {
   "cell_type": "code",
   "execution_count": 1,
   "metadata": {},
   "outputs": [],
   "source": [
    "from hw2skeleton.k_means import k_means\n",
    "from hw2skeleton.agglomerative import agglomerative\n",
    "from hw2skeleton.utils import *\n",
    "from hw2skeleton import io\n",
    "import matplotlib.pyplot as plt\n",
    "import sklearn.metrics as sk\n",
    "from sklearn.decomposition import PCA\n",
    "import hw2skeleton.cluster as cl"
   ]
  },
  {
   "cell_type": "code",
   "execution_count": 2,
   "metadata": {},
   "outputs": [
    {
     "name": "stdout",
     "output_type": "stream",
     "text": [
      "Read in 136 active sites\n"
     ]
    }
   ],
   "source": [
    "sites = io.read_active_sites('data')"
   ]
  },
  {
   "cell_type": "code",
   "execution_count": 3,
   "metadata": {},
   "outputs": [],
   "source": [
    "def compute_similarity_matrix(sites):\n",
    "    simMat = []\n",
    "    names = []\n",
    "    for i in range(len(sites)):\n",
    "        names.append(sites[i].name)\n",
    "        row = []\n",
    "        for j in range(len(sites)):\n",
    "            row.append(cl.compute_similarity(sites[i].counts,sites[j].counts))\n",
    "        simMat.append(row)\n",
    "    simMat = pd.DataFrame(simMat, columns = names, index = names)\n",
    "\n",
    "    return simMat"
   ]
  },
  {
   "cell_type": "code",
   "execution_count": 4,
   "metadata": {},
   "outputs": [],
   "source": [
    "simMat = compute_similarity_matrix(sites)"
   ]
  },
  {
   "cell_type": "code",
   "execution_count": 5,
   "metadata": {},
   "outputs": [
    {
     "name": "stdout",
     "output_type": "stream",
     "text": [
      "Read in 136 active sites\n"
     ]
    }
   ],
   "source": [
    "kmeans_clusters, sc = k_means()"
   ]
  },
  {
   "cell_type": "code",
   "execution_count": 6,
   "metadata": {},
   "outputs": [
    {
     "name": "stdout",
     "output_type": "stream",
     "text": [
      "Read in 136 active sites\n"
     ]
    }
   ],
   "source": [
    "agg_clusters, sc = agglomerative()"
   ]
  },
  {
   "cell_type": "code",
   "execution_count": 8,
   "metadata": {},
   "outputs": [
    {
     "data": {
      "text/plain": [
       "Index(['46495', '23812', '41729', '91911', '82212', '15813', '85232', '20856',\n",
       "       '3458', '13052',\n",
       "       ...\n",
       "       '88042', '38031', '52954', '20326', '8304', '72058', '34958', '41719',\n",
       "       '97612', '47023'],\n",
       "      dtype='object', length=136)"
      ]
     },
     "execution_count": 8,
     "metadata": {},
     "output_type": "execute_result"
    }
   ],
   "source": [
    "sites"
   ]
  },
  {
   "cell_type": "code",
   "execution_count": 7,
   "metadata": {},
   "outputs": [
    {
     "ename": "TypeError",
     "evalue": "do_PCA() takes 2 positional arguments but 3 were given",
     "output_type": "error",
     "traceback": [
      "\u001b[0;31m---------------------------------------------------------------------------\u001b[0m",
      "\u001b[0;31mTypeError\u001b[0m                                 Traceback (most recent call last)",
      "\u001b[0;32m<ipython-input-7-7f78a1b0db3f>\u001b[0m in \u001b[0;36m<module>\u001b[0;34m\u001b[0m\n\u001b[1;32m      1\u001b[0m \u001b[0mk\u001b[0m \u001b[0;34m=\u001b[0m \u001b[0mmake_cluster_assign_df\u001b[0m\u001b[0;34m(\u001b[0m\u001b[0mkmeans_clusters\u001b[0m\u001b[0;34m,\u001b[0m \u001b[0msimMat\u001b[0m\u001b[0;34m)\u001b[0m\u001b[0;34m\u001b[0m\u001b[0;34m\u001b[0m\u001b[0m\n\u001b[0;32m----> 2\u001b[0;31m \u001b[0mk_pca\u001b[0m \u001b[0;34m=\u001b[0m \u001b[0mdo_PCA\u001b[0m\u001b[0;34m(\u001b[0m\u001b[0mk\u001b[0m\u001b[0;34m,\u001b[0m \u001b[0msites\u001b[0m\u001b[0;34m,\u001b[0m \u001b[0msimMat\u001b[0m\u001b[0;34m)\u001b[0m\u001b[0;34m\u001b[0m\u001b[0;34m\u001b[0m\u001b[0m\n\u001b[0m\u001b[1;32m      3\u001b[0m \u001b[0mpca_plot\u001b[0m\u001b[0;34m(\u001b[0m\u001b[0mkmeans_clusters\u001b[0m\u001b[0;34m,\u001b[0m \u001b[0mk_pca\u001b[0m\u001b[0;34m)\u001b[0m\u001b[0;34m\u001b[0m\u001b[0;34m\u001b[0m\u001b[0m\n",
      "\u001b[0;31mTypeError\u001b[0m: do_PCA() takes 2 positional arguments but 3 were given"
     ]
    }
   ],
   "source": [
    "k = make_cluster_assign_df(kmeans_clusters, simMat)\n",
    "k_pca = do_PCA(k, sites, simMat)\n",
    "pca_plot(kmeans_clusters, k_pca)"
   ]
  },
  {
   "cell_type": "code",
   "execution_count": null,
   "metadata": {},
   "outputs": [],
   "source": [
    "a = make_cluster_assign_df(agg_clusters)\n",
    "a_pca = do_PCA(a)\n",
    "pca_plot(agg_clusters, a_pca)"
   ]
  },
  {
   "cell_type": "code",
   "execution_count": null,
   "metadata": {},
   "outputs": [],
   "source": [
    "jaccard_similarity_score(k, a)"
   ]
  },
  {
   "cell_type": "code",
   "execution_count": null,
   "metadata": {},
   "outputs": [],
   "source": []
  }
 ],
 "metadata": {
  "kernelspec": {
   "display_name": "Python 3",
   "language": "python",
   "name": "python3"
  },
  "language_info": {
   "codemirror_mode": {
    "name": "ipython",
    "version": 3
   },
   "file_extension": ".py",
   "mimetype": "text/x-python",
   "name": "python",
   "nbconvert_exporter": "python",
   "pygments_lexer": "ipython3",
   "version": "3.7.4"
  },
  "toc": {
   "base_numbering": 1,
   "nav_menu": {},
   "number_sections": true,
   "sideBar": true,
   "skip_h1_title": false,
   "title_cell": "Table of Contents",
   "title_sidebar": "Contents",
   "toc_cell": false,
   "toc_position": {},
   "toc_section_display": true,
   "toc_window_display": false
  }
 },
 "nbformat": 4,
 "nbformat_minor": 2
}
