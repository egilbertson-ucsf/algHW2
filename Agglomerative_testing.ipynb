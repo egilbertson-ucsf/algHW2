{
 "cells": [
  {
   "cell_type": "code",
   "execution_count": 103,
   "metadata": {},
   "outputs": [],
   "source": [
    "from hw2skeleton.agglomerative import *\n",
    "from hw2skeleton import io\n",
    "import matplotlib.pyplot as plt\n",
    "import sklearn.metrics as sk\n",
    "from sklearn.decomposition import PCA"
   ]
  },
  {
   "cell_type": "code",
   "execution_count": 65,
   "metadata": {},
   "outputs": [],
   "source": [
    "def make_cluster_assign_df(clusters, simMat):\n",
    "    assgn = pd.DataFrame(index = simMat.index, columns = ['Cluster Assignment'])\n",
    "    for cluster in clusters.keys():\n",
    "        for site in clusters[cluster]:\n",
    "            assgn.loc[site] = cluster\n",
    "    return assgn"
   ]
  },
  {
   "cell_type": "code",
   "execution_count": 87,
   "metadata": {},
   "outputs": [],
   "source": [
    "def run_everything(k, simMat_update):\n",
    "    c = 0\n",
    "    clusters = {}\n",
    "    while len(simMat_update) > k:\n",
    "        new_name = name_cluster(c)\n",
    "        c += 1\n",
    "        min_pair=find_min(simMat_update)\n",
    "        clust_sites = unpack_cluster(min_pair, sites_dict, clusters)\n",
    "        simMat_update = rm_most_similar(simMat_update, min_pair)\n",
    "        new_clust_avg = compute_cluster_center(clust_sites, sites_dict, aa_df)\n",
    "        newSim = compute_new_cluster_sim(new_clust_avg, simMat_update, sites_dict, clusters)\n",
    "        simMat_update = update_simMat(newSim, simMat_update, new_name)\n",
    "        clusters = update_cluster_dict(new_name, min_pair, clusters, sites_dict)\n",
    "    return clusters"
   ]
  },
  {
   "cell_type": "code",
   "execution_count": 88,
   "metadata": {},
   "outputs": [
    {
     "name": "stdout",
     "output_type": "stream",
     "text": [
      "Read in 136 active sites\n"
     ]
    }
   ],
   "source": [
    "sites = io.read_active_sites('data')\n",
    "sites_dict = {}\n",
    "for site in sites:\n",
    "    sites_dict[site.name] = site\n",
    "simMat_update = simMat.copy()"
   ]
  },
  {
   "cell_type": "code",
   "execution_count": 91,
   "metadata": {},
   "outputs": [],
   "source": [
    "c = run_everything(2, simMat_update)"
   ]
  },
  {
   "cell_type": "code",
   "execution_count": 93,
   "metadata": {},
   "outputs": [],
   "source": [
    "assgn = make_cluster_assign_df(c, simMat)"
   ]
  },
  {
   "cell_type": "code",
   "execution_count": 97,
   "metadata": {},
   "outputs": [
    {
     "data": {
      "text/plain": [
       "0.7209463983067482"
      ]
     },
     "execution_count": 97,
     "metadata": {},
     "output_type": "execute_result"
    }
   ],
   "source": [
    "sk.silhouette_score(simMat, assgn['Cluster Assignment'], metric='precomputed')"
   ]
  },
  {
   "cell_type": "code",
   "execution_count": 98,
   "metadata": {},
   "outputs": [],
   "source": [
    "def make_repr_data_frame(sites):\n",
    "    df = pd.DataFrame(index = aa3, columns = simMat.columns )\n",
    "    for site in sites:\n",
    "        df[site.name] = site.counts\n",
    "    return df"
   ]
  },
  {
   "cell_type": "code",
   "execution_count": 104,
   "metadata": {},
   "outputs": [],
   "source": [
    "a = make_repr_data_frame(sites).T\n",
    "pca = PCA(n_components=2)\n",
    "p = pca.fit_transform(a)\n",
    "principalDf = pd.DataFrame(data = p\n",
    "             , columns = ['principal component 1', 'principal component 2'], index = simMat.index)\n",
    "finalDf = pd.concat([principalDf, assgn[['Cluster Assignment']]], axis = 1)\n",
    "\n"
   ]
  },
  {
   "cell_type": "code",
   "execution_count": 106,
   "metadata": {},
   "outputs": [
    {
     "data": {
      "image/png": "[encoded data removed]",
      "text/plain": [
       "<Figure size 576x576 with 1 Axes>"
      ]
     },
     "metadata": {
      "needs_background": "light"
     },
     "output_type": "display_data"
    }
   ],
   "source": [
    "fig = plt.figure(figsize = (8,8))\n",
    "ax = fig.add_subplot(1,1,1) \n",
    "ax.set_xlabel('Principal Component 1', fontsize = 15)\n",
    "ax.set_ylabel('Principal Component 2', fontsize = 15)\n",
    "ax.set_title('Agglomerative Clusters', fontsize = 20)\n",
    "targets = c.keys()\n",
    "colors = ['b', 'g']\n",
    "for target, color in zip(targets,colors):\n",
    "    indicesToKeep = finalDf['Cluster Assignment'] == target\n",
    "    ax.scatter(finalDf.loc[indicesToKeep, 'principal component 1']\n",
    "               , finalDf.loc[indicesToKeep, 'principal component 2']\n",
    "               , c = color\n",
    "               , s = 50)\n",
    "ax.legend(targets)\n",
    "ax.grid()"
   ]
  },
  {
   "cell_type": "code",
   "execution_count": null,
   "metadata": {},
   "outputs": [],
   "source": []
  }
 ],
 "metadata": {
  "kernelspec": {
   "display_name": "Python 3",
   "language": "python",
   "name": "python3"
  },
  "language_info": {
   "codemirror_mode": {
    "name": "ipython",
    "version": 3
   },
   "file_extension": ".py",
   "mimetype": "text/x-python",
   "name": "python",
   "nbconvert_exporter": "python",
   "pygments_lexer": "ipython3",
   "version": "3.7.4"
  },
  "toc": {
   "base_numbering": 1,
   "nav_menu": {},
   "number_sections": true,
   "sideBar": true,
   "skip_h1_title": false,
   "title_cell": "Table of Contents",
   "title_sidebar": "Contents",
   "toc_cell": false,
   "toc_position": {},
   "toc_section_display": true,
   "toc_window_display": false
  }
 },
 "nbformat": 4,
 "nbformat_minor": 2
}
